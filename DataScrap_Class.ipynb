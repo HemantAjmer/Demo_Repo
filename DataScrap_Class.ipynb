{
  "nbformat": 4,
  "nbformat_minor": 0,
  "metadata": {
    "colab": {
      "provenance": [],
      "authorship_tag": "ABX9TyNSTzgDJF6u11PEOAxq+C7Y",
      "include_colab_link": true
    },
    "kernelspec": {
      "name": "python3",
      "display_name": "Python 3"
    },
    "language_info": {
      "name": "python"
    }
  },
  "cells": [
    {
      "cell_type": "markdown",
      "metadata": {
        "id": "view-in-github",
        "colab_type": "text"
      },
      "source": [
        "<a href=\"https://colab.research.google.com/github/HemantAjmer/Demo_Repo/blob/main/DataScrap_Class.ipynb\" target=\"_parent\"><img src=\"https://colab.research.google.com/assets/colab-badge.svg\" alt=\"Open In Colab\"/></a>"
      ]
    },
    {
      "cell_type": "code",
      "execution_count": null,
      "metadata": {
        "id": "xVMzYp_dmOuS"
      },
      "outputs": [],
      "source": [
        "import requests\n",
        "from bs4 import BeautifulSoup"
      ]
    },
    {
      "cell_type": "code",
      "source": [
        "url = \"https://en.wikipedia.org/wiki/List_of_states_and_territories_of_the_United_States\"\n",
        "response = requests.get(url)\n",
        "soup = BeautifulSoup(response.content, \"html.parser\")\n",
        "\n",
        "table = soup.find(\"table\", {\"class\": \"wikitable\"})\n",
        "if table:\n",
        "  rows = table.find_all(\"tr\")\n",
        "  for row in rows[1:]:\n",
        "    cells = row.find_all(\"td\")\n",
        "    if len(cells) >= 6:\n",
        "      state_name = cells[0].text.strip()\n",
        "      population = cells[5].text.strip()\n",
        "      print(f\"State: {state_name}, Population: {population}\")\n",
        "else:\n",
        "  print(\"Table not found on the page.\")"
      ],
      "metadata": {
        "colab": {
          "base_uri": "https://localhost:8080/"
        },
        "id": "x82fhl7lmVGE",
        "outputId": "a0694b5b-502f-4039-8859-19e61caf9782"
      },
      "execution_count": null,
      "outputs": [
        {
          "output_type": "stream",
          "name": "stdout",
          "text": [
            "State: AL, Population: 52,420\n",
            "State: AK, Population: 665,384\n",
            "State: AZ, Population: 295,234\n",
            "State: AR, Population: 137,732\n",
            "State: CA, Population: 163,695\n",
            "State: CO, Population: 269,601\n",
            "State: CT, Population: 5,543\n",
            "State: DE, Population: 2,489\n",
            "State: FL, Population: 65,758\n",
            "State: GA, Population: 153,910\n",
            "State: HI, Population: 28,313\n",
            "State: ID, Population: 216,443\n",
            "State: IL, Population: 57,914\n",
            "State: IN, Population: 94,326\n",
            "State: IA, Population: 145,746\n",
            "State: KS, Population: 82,278\n",
            "State: KY, Population: 40,408\n",
            "State: LA, Population: 52,378\n",
            "State: ME, Population: 35,380\n",
            "State: MD, Population: 12,406\n",
            "State: MA, Population: 27,336\n",
            "State: MI, Population: 96,714\n",
            "State: MN, Population: 86,936\n",
            "State: MS, Population: 125,438\n",
            "State: MO, Population: 69,707\n",
            "State: MT, Population: 147,040\n",
            "State: NE, Population: 77,348\n",
            "State: NV, Population: 110,572\n",
            "State: NH, Population: 9,349\n",
            "State: NJ, Population: 8,723\n",
            "State: NM, Population: 121,590\n",
            "State: NY, Population: 54,555\n",
            "State: NC, Population: 53,819\n",
            "State: ND, Population: 70,698\n",
            "State: OH, Population: 116,098\n",
            "State: OK, Population: 181,037\n",
            "State: OR, Population: 98,379\n",
            "State: PA, Population: 46,054\n",
            "State: RI, Population: 4,001\n",
            "State: SC, Population: 32,020\n",
            "State: SD, Population: 77,116\n",
            "State: TN, Population: 109,153\n",
            "State: TX, Population: 268,596\n",
            "State: UT, Population: 219,882\n",
            "State: VT, Population: 9,616\n",
            "State: VA, Population: 42,775\n",
            "State: WA, Population: 71,298\n",
            "State: WV, Population: 62,756\n",
            "State: WI, Population: 65,496\n",
            "State: WY, Population: 253,335\n"
          ]
        }
      ]
    },
    {
      "source": [
        "import requests\n",
        "from bs4 import BeautifulSoup\n",
        "import pandas as pd\n",
        "\n",
        "names = []\n",
        "years = []\n",
        "ratings = []\n",
        "\n",
        "for i in range(1, 251, 25):\n",
        "    url_new = f\"https://www.imdb.com/chart/top/?start={i}&ref_=adv_nxt\"\n",
        "    response = requests.get(url_new, headers={\"User-Agent\": \"Mozilla/5.0\"})\n",
        "    soup = BeautifulSoup(response.content, \"html.parser\")\n",
        "\n",
        "    movies = soup.find_all('li', class_='ipc-metadata-list-summary-item sc-10233bc-0 TwzGn cli-parent')\n",
        "\n",
        "    for movie in movies:\n",
        "        name = movie.find('h3', class_='ipc-title__text').get_text().strip()\n",
        "        name = name.split('. ', 1)[-1].strip()\n",
        "        year = movie.find('span', class_='sc-ab348ad5-8 cSWcJI cli-title-metadata-item').get_text().strip()\n",
        "        rating = movie.find('span', class_='ipc-rating-star--imdb').get_text().strip()\n",
        "        names.append(name)\n",
        "        years.append(year)\n",
        "        ratings.append(rating)\n",
        "\n",
        "d = {\"Name\": names, \"Year\": years, \"Rating\": ratings}\n",
        "df = pd.DataFrame(d)\n",
        "print(df)"
      ],
      "cell_type": "code",
      "metadata": {
        "colab": {
          "base_uri": "https://localhost:8080/"
        },
        "id": "dT0TibRbcQsr",
        "outputId": "437bd8c1-6e34-4c8c-ee84-8acf585d342b"
      },
      "execution_count": 13,
      "outputs": [
        {
          "output_type": "stream",
          "name": "stdout",
          "text": [
            "                         Name  Year      Rating\n",
            "0    The Shawshank Redemption  1994    9.3 (3M)\n",
            "1               The Godfather  1972  9.2 (2.1M)\n",
            "2             The Dark Knight  2008  9.0 (2.9M)\n",
            "3       The Godfather Part II  1974  9.0 (1.4M)\n",
            "4                12 Angry Men  1957  9.0 (888K)\n",
            "..                        ...   ...         ...\n",
            "245     It's a Wonderful Life  1946  8.6 (507K)\n",
            "246             Seven Samurai  1954  8.6 (372K)\n",
            "247  The Silence of the Lambs  1991  8.6 (1.6M)\n",
            "248       Saving Private Ryan  1998  8.6 (1.5M)\n",
            "249               City of God  2002  8.6 (815K)\n",
            "\n",
            "[250 rows x 3 columns]\n"
          ]
        }
      ]
    },
    {
      "cell_type": "code",
      "source": [],
      "metadata": {
        "id": "Wi1SuK8h90u8"
      },
      "execution_count": null,
      "outputs": []
    }
  ]
}