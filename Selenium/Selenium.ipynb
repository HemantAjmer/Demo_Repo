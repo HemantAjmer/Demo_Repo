{
 "cells": [
  {
   "cell_type": "code",
   "execution_count": 3,
   "id": "8c4b20e0-5f20-40cb-a734-6455f6142b28",
   "metadata": {},
   "outputs": [
    {
     "name": "stdout",
     "output_type": "stream",
     "text": [
      "Requirement already satisfied: selenium in c:\\users\\asus\\anaconda3\\lib\\site-packages (4.25.0)\n",
      "Requirement already satisfied: urllib3<3,>=1.26 in c:\\users\\asus\\anaconda3\\lib\\site-packages (from urllib3[socks]<3,>=1.26->selenium) (2.0.7)\n",
      "Requirement already satisfied: trio~=0.17 in c:\\users\\asus\\anaconda3\\lib\\site-packages (from selenium) (0.26.2)\n",
      "Requirement already satisfied: trio-websocket~=0.9 in c:\\users\\asus\\anaconda3\\lib\\site-packages (from selenium) (0.11.1)\n",
      "Requirement already satisfied: certifi>=2021.10.8 in c:\\users\\asus\\anaconda3\\lib\\site-packages (from selenium) (2024.7.4)\n",
      "Requirement already satisfied: typing_extensions~=4.9 in c:\\users\\asus\\anaconda3\\lib\\site-packages (from selenium) (4.9.0)\n",
      "Requirement already satisfied: websocket-client~=1.8 in c:\\users\\asus\\anaconda3\\lib\\site-packages (from selenium) (1.8.0)\n",
      "Requirement already satisfied: attrs>=23.2.0 in c:\\users\\asus\\anaconda3\\lib\\site-packages (from trio~=0.17->selenium) (24.2.0)\n",
      "Requirement already satisfied: sortedcontainers in c:\\users\\asus\\anaconda3\\lib\\site-packages (from trio~=0.17->selenium) (2.4.0)\n",
      "Requirement already satisfied: idna in c:\\users\\asus\\anaconda3\\lib\\site-packages (from trio~=0.17->selenium) (3.4)\n",
      "Requirement already satisfied: outcome in c:\\users\\asus\\anaconda3\\lib\\site-packages (from trio~=0.17->selenium) (1.3.0.post0)\n",
      "Requirement already satisfied: sniffio>=1.3.0 in c:\\users\\asus\\anaconda3\\lib\\site-packages (from trio~=0.17->selenium) (1.3.0)\n",
      "Requirement already satisfied: cffi>=1.14 in c:\\users\\asus\\anaconda3\\lib\\site-packages (from trio~=0.17->selenium) (1.16.0)\n",
      "Requirement already satisfied: wsproto>=0.14 in c:\\users\\asus\\anaconda3\\lib\\site-packages (from trio-websocket~=0.9->selenium) (1.2.0)\n",
      "Requirement already satisfied: pysocks!=1.5.7,<2.0,>=1.5.6 in c:\\users\\asus\\anaconda3\\lib\\site-packages (from urllib3[socks]<3,>=1.26->selenium) (1.7.1)\n",
      "Requirement already satisfied: pycparser in c:\\users\\asus\\anaconda3\\lib\\site-packages (from cffi>=1.14->trio~=0.17->selenium) (2.21)\n",
      "Requirement already satisfied: h11<1,>=0.9.0 in c:\\users\\asus\\anaconda3\\lib\\site-packages (from wsproto>=0.14->trio-websocket~=0.9->selenium) (0.14.0)\n"
     ]
    }
   ],
   "source": [
    "!pip install selenium"
   ]
  },
  {
   "cell_type": "code",
   "execution_count": 21,
   "id": "5ae8220d-8e1a-4c36-a13e-9a9a8ae47bd1",
   "metadata": {},
   "outputs": [
    {
     "name": "stdout",
     "output_type": "stream",
     "text": [
      "Requirement already satisfied: selenium in c:\\users\\asus\\anaconda3\\lib\\site-packages (4.25.0)\n",
      "Requirement already satisfied: webdriver-manager in c:\\users\\asus\\anaconda3\\lib\\site-packages (4.0.2)\n",
      "Requirement already satisfied: urllib3<3,>=1.26 in c:\\users\\asus\\anaconda3\\lib\\site-packages (from urllib3[socks]<3,>=1.26->selenium) (2.0.7)\n",
      "Requirement already satisfied: trio~=0.17 in c:\\users\\asus\\anaconda3\\lib\\site-packages (from selenium) (0.26.2)\n",
      "Requirement already satisfied: trio-websocket~=0.9 in c:\\users\\asus\\anaconda3\\lib\\site-packages (from selenium) (0.11.1)\n",
      "Requirement already satisfied: certifi>=2021.10.8 in c:\\users\\asus\\anaconda3\\lib\\site-packages (from selenium) (2024.7.4)\n",
      "Requirement already satisfied: typing_extensions~=4.9 in c:\\users\\asus\\anaconda3\\lib\\site-packages (from selenium) (4.9.0)\n",
      "Requirement already satisfied: websocket-client~=1.8 in c:\\users\\asus\\anaconda3\\lib\\site-packages (from selenium) (1.8.0)\n",
      "Requirement already satisfied: requests in c:\\users\\asus\\anaconda3\\lib\\site-packages (from webdriver-manager) (2.31.0)\n",
      "Requirement already satisfied: python-dotenv in c:\\users\\asus\\anaconda3\\lib\\site-packages (from webdriver-manager) (0.21.0)\n",
      "Requirement already satisfied: packaging in c:\\users\\asus\\anaconda3\\lib\\site-packages (from webdriver-manager) (23.1)\n",
      "Requirement already satisfied: attrs>=23.2.0 in c:\\users\\asus\\anaconda3\\lib\\site-packages (from trio~=0.17->selenium) (24.2.0)\n",
      "Requirement already satisfied: sortedcontainers in c:\\users\\asus\\anaconda3\\lib\\site-packages (from trio~=0.17->selenium) (2.4.0)\n",
      "Requirement already satisfied: idna in c:\\users\\asus\\anaconda3\\lib\\site-packages (from trio~=0.17->selenium) (3.4)\n",
      "Requirement already satisfied: outcome in c:\\users\\asus\\anaconda3\\lib\\site-packages (from trio~=0.17->selenium) (1.3.0.post0)\n",
      "Requirement already satisfied: sniffio>=1.3.0 in c:\\users\\asus\\anaconda3\\lib\\site-packages (from trio~=0.17->selenium) (1.3.0)\n",
      "Requirement already satisfied: cffi>=1.14 in c:\\users\\asus\\anaconda3\\lib\\site-packages (from trio~=0.17->selenium) (1.16.0)\n",
      "Requirement already satisfied: wsproto>=0.14 in c:\\users\\asus\\anaconda3\\lib\\site-packages (from trio-websocket~=0.9->selenium) (1.2.0)\n",
      "Requirement already satisfied: pysocks!=1.5.7,<2.0,>=1.5.6 in c:\\users\\asus\\anaconda3\\lib\\site-packages (from urllib3[socks]<3,>=1.26->selenium) (1.7.1)\n",
      "Requirement already satisfied: charset-normalizer<4,>=2 in c:\\users\\asus\\anaconda3\\lib\\site-packages (from requests->webdriver-manager) (2.0.4)\n",
      "Requirement already satisfied: pycparser in c:\\users\\asus\\anaconda3\\lib\\site-packages (from cffi>=1.14->trio~=0.17->selenium) (2.21)\n",
      "Requirement already satisfied: h11<1,>=0.9.0 in c:\\users\\asus\\anaconda3\\lib\\site-packages (from wsproto>=0.14->trio-websocket~=0.9->selenium) (0.14.0)\n",
      "Note: you may need to restart the kernel to use updated packages.\n"
     ]
    }
   ],
   "source": [
    "pip install selenium webdriver-manager"
   ]
  },
  {
   "cell_type": "code",
   "execution_count": 27,
   "id": "4d838c4c-cf98-4b50-86a1-9c231a98b560",
   "metadata": {},
   "outputs": [
    {
     "name": "stdout",
     "output_type": "stream",
     "text": [
      "Aircraft Name: Dassault Rafale, Origin: France, Type: Multirole\n",
      "Aircraft Name: EH, Origin: 28[1], Type: \n",
      "Aircraft Name: HAL Tejas, Origin: India, Type: Multirole\n",
      "Aircraft Name: Conversion trainer, Origin: Mk.1 Trainer, Type: 2[4][5]\n",
      "Aircraft Name: Multirole, Origin: Mk.1A, Type: \n",
      "Aircraft Name: Sukhoi Su-30MKI, Origin: Russia, Type: Multirole\n",
      "Aircraft Name: Mikoyan MiG-29, Origin: Soviet Union, Type: Multirole\n",
      "Aircraft Name: Fulcrum B, Origin: 7[1], Type: \n",
      "Aircraft Name: Dassault Mirage 2000, Origin: France, Type: Multirole\n",
      "Aircraft Name: -2000TH, Origin: 10[1], Type: Used for training.\n",
      "Aircraft Name: SEPECAT Jaguar, Origin: United Kingdom, Type: Attack\n",
      "Aircraft Name: IS, Origin: 79[1], Type: \n",
      "Aircraft Name: IM, Origin: 8[1], Type: Maritime strike aircraft carrying Sea Eagle missile.\n",
      "Aircraft Name: Mikoyan-Gurevich MiG-21, Origin: Soviet Union, Type: Interceptor\n",
      "Aircraft Name: Embraer R-99, Origin: Brazil, Type: AEW&C\n",
      "Aircraft Name: Beriev A-50, Origin: Soviet Union, Type: AEW&C\n",
      "Aircraft Name: Boeing 707, Origin: United States, Type: SIGINT / ELINT\n",
      "Aircraft Name: Global 5000, Origin: United States, Type: SIGINT / ELINT\n",
      "Aircraft Name: Gulfstream III, Origin: United States, Type: ELINT\n",
      "Aircraft Name: Gulfstream G100, Origin: Israel, Type: surveillance\n",
      "Aircraft Name: Ilyushin Il-78, Origin: Soviet Union, Type: aerial refuelling\n",
      "Aircraft Name: Boeing 777, Origin: United States, Type: VIP transport\n",
      "Aircraft Name: Boeing 737, Origin: United States, Type: VIP transport\n",
      "Aircraft Name: Embraer Legacy 600, Origin: Brazil, Type: VIP transport\n",
      "Aircraft Name: Boeing C-17, Origin: United States, Type: strategic airlifter\n",
      "Aircraft Name: Ilyushin Il-76, Origin: Soviet Union, Type: strategic airlifter\n",
      "Aircraft Name: C-130J Super Hercules, Origin: United States, Type: tactical airlifter\n",
      "Aircraft Name: Airbus A321, Origin: Europe, Type: transport\n",
      "Aircraft Name: Antonov An-32, Origin: Soviet Union, Type: tactical airlifter\n",
      "Aircraft Name: EADS CASA C-295, Origin: Spain, Type: tactical airlifter\n",
      "Aircraft Name: Hawker Siddeley HS 748, Origin: United Kingdom, Type: tactical airlifter\n",
      "Aircraft Name: Dornier Do 228, Origin: Germany, Type: tactical airlifter\n",
      "Aircraft Name: Boeing AH-64, Origin: United States, Type: attack\n",
      "Aircraft Name: Mil Mi-24, Origin: Russia, Type: attack\n",
      "Aircraft Name: HAL Prachand, Origin: India, Type: attack\n",
      "Aircraft Name: HAL Rudra, Origin: India, Type: attack\n",
      "Aircraft Name: CH-47 Chinook, Origin: United States, Type: transport\n",
      "Aircraft Name: Mil Mi-17, Origin: Russia, Type: utility\n",
      "Aircraft Name: HAL Dhruv, Origin: India, Type: utility\n",
      "Aircraft Name: HAL LUH, Origin: India, Type: utility\n",
      "Aircraft Name: Alouette III, Origin: France/India, Type: liaison\n",
      "Aircraft Name: SA 315B Lama, Origin: France/India, Type: utility\n",
      "Aircraft Name: BAE Hawk, Origin: United Kingdom, Type: Advanced trainer\n",
      "Aircraft Name: HAL Kiran, Origin: India, Type: Intermediate trainer\n",
      "Aircraft Name: HAL HTT-40, Origin: India, Type: Basic trainer\n",
      "Aircraft Name: Pilatus PC-7, Origin: Switzerland, Type: Basic trainer\n",
      "Aircraft Name: Pipistrel Virus, Origin: Slovenia, Type: Ab initio trainer\n",
      "Aircraft Name: IAI Heron, Origin: Israel, Type: surveillance\n",
      "Aircraft Name: IAI Heron Mk 2, Origin: Israel, Type: surveillance\n",
      "Aircraft Name: IAI Searcher, Origin: Israel, Type: surveillance\n",
      "Aircraft Name: ALS-50, Origin: India, Type: loitering munition\n",
      "Aircraft Name: Kadet Loitering Aerial Munition, Origin: India, Type: loitering munition\n"
     ]
    }
   ],
   "source": [
    "import csv\n",
    "from selenium import webdriver\n",
    "from selenium.webdriver.common.by import By\n",
    "from selenium.webdriver.edge.service import Service\n",
    "from webdriver_manager.microsoft import EdgeChromiumDriverManager\n",
    "import time\n",
    "\n",
    "driver = webdriver.Edge(service=Service(EdgeChromiumDriverManager().install()))\n",
    "\n",
    "url = \"https://en.wikipedia.org/wiki/List_of_active_Indian_military_aircraft\"\n",
    "driver.get(url)\n",
    "\n",
    "time.sleep(5)\n",
    "\n",
    "table = driver.find_element(By.XPATH, '//table[contains(@class, \"wikitable\")]')\n",
    "rows = table.find_elements(By.TAG_NAME, 'tr')\n",
    "\n",
    "aircraft_data = []\n",
    "previous_name = None\n",
    "\n",
    "for row in rows[1:]:\n",
    "    cols = row.find_elements(By.TAG_NAME, 'td')\n",
    "\n",
    "    if len(cols)>=3:\n",
    "        aircraft_name = cols[0].text.strip()\n",
    "\n",
    "        if previous_name == aircraft_name:\n",
    "            # Same aircraft\n",
    "            aircraft_data[-1] = (aircraft_data[-1][0], aircraft_data[-1][1] +'/'+ aircraft_name)\n",
    "        else:\n",
    "            # New aircraft\n",
    "            aircraft_data.append((aircraft_name, cols[1].text.strip(), cols[2].text.strip()))\n",
    "            previous_name = aircraft_name\n",
    "\n",
    "with open('aircraft_data.csv', mode='w', newline='', encoding='utf-8') as file:\n",
    "    writer = csv.writer(file)\n",
    "    writer.writerow(['Aircraft Name', 'Origin', 'Type'])\n",
    "    writer.writerows(aircraft_data)\n",
    "\n",
    "for aircraft in aircraft_data:\n",
    "    print(f\"Aircraft Name: {aircraft[0]}, Origin: {aircraft[1]}, Type: {aircraft[2]}\")\n",
    "\n",
    "driver.quit()"
   ]
  },
  {
   "cell_type": "code",
   "execution_count": null,
   "id": "593050f3-59ad-4cd9-b9fb-9029d2dd77d5",
   "metadata": {},
   "outputs": [],
   "source": []
  }
 ],
 "metadata": {
  "kernelspec": {
   "display_name": "Python 3 (ipykernel)",
   "language": "python",
   "name": "python3"
  },
  "language_info": {
   "codemirror_mode": {
    "name": "ipython",
    "version": 3
   },
   "file_extension": ".py",
   "mimetype": "text/x-python",
   "name": "python",
   "nbconvert_exporter": "python",
   "pygments_lexer": "ipython3",
   "version": "3.11.7"
  }
 },
 "nbformat": 4,
 "nbformat_minor": 5
}
