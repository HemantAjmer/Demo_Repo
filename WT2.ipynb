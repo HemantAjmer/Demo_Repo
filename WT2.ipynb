{
  "nbformat": 4,
  "nbformat_minor": 0,
  "metadata": {
    "colab": {
      "provenance": [],
      "authorship_tag": "ABX9TyPh9V4nQlC80vByxYPklHFi",
      "include_colab_link": true
    },
    "kernelspec": {
      "name": "python3",
      "display_name": "Python 3"
    },
    "language_info": {
      "name": "python"
    }
  },
  "cells": [
    {
      "cell_type": "markdown",
      "metadata": {
        "id": "view-in-github",
        "colab_type": "text"
      },
      "source": [
        "<a href=\"https://colab.research.google.com/github/HemantAjmer/Demo_Repo/blob/main/WT2.ipynb\" target=\"_parent\"><img src=\"https://colab.research.google.com/assets/colab-badge.svg\" alt=\"Open In Colab\"/></a>"
      ]
    },
    {
      "cell_type": "code",
      "execution_count": 1,
      "metadata": {
        "colab": {
          "base_uri": "https://localhost:8080/"
        },
        "id": "W3lnDEIgDQgR",
        "outputId": "025da37e-4004-4336-eead-8690ea304a15"
      },
      "outputs": [
        {
          "output_type": "stream",
          "name": "stdout",
          "text": [
            "Requirement already satisfied: BeautifulSoup4 in /usr/local/lib/python3.10/dist-packages (4.12.3)\n",
            "Requirement already satisfied: soupsieve>1.2 in /usr/local/lib/python3.10/dist-packages (from BeautifulSoup4) (2.6)\n"
          ]
        }
      ],
      "source": [
        "pip install BeautifulSoup4"
      ]
    },
    {
      "cell_type": "code",
      "source": [
        "import requests\n",
        "from bs4 import BeautifulSoup\n",
        "\n",
        "url = 'https://stackoverflow.com/questions/415511/how-do-i-get-the-current-time-in-python'\n",
        "\n",
        "response = requests.get(url)\n",
        "html_content = response.content\n",
        "\n",
        "soup = BeautifulSoup(html_content, 'html.parser')\n",
        "\n",
        "question_title = soup.find('a', class_='question-hyperlink').get_text()\n",
        "question_body = soup.find('div', class_='s-prose js-post-body').get_text()\n",
        "\n",
        "answers = soup.find_all('div', class_='answer')\n",
        "print(f\"Question: {question_title}\")\n",
        "print(f\"Question Details: {question_body}\\n\")\n",
        "\n",
        "for idx, answer in enumerate(answers):\n",
        "    answer_body = answer.find('div', class_='s-prose js-post-body').get_text()\n",
        "    print(f\"Answer: {answer_body}\\n\")\n",
        "    break\n"
      ],
      "metadata": {
        "colab": {
          "base_uri": "https://localhost:8080/"
        },
        "id": "JbcwH358DU1-",
        "outputId": "c7c88a16-2b13-48db-be5a-6711d5820d94"
      },
      "execution_count": 2,
      "outputs": [
        {
          "output_type": "stream",
          "name": "stdout",
          "text": [
            "Question: How do I get the current time in Python?\n",
            "Question Details: \n",
            "How do I get the current time in Python?\n",
            "\n",
            "\n",
            "Answer: \n",
            "Use datetime:\n",
            ">>> import datetime\n",
            ">>> now = datetime.datetime.now()\n",
            ">>> now\n",
            "datetime.datetime(2009, 1, 6, 15, 8, 24, 78915)\n",
            ">>> print(now)\n",
            "2009-01-06 15:08:24.789150\n",
            "\n",
            "For just the clock time without the date:\n",
            ">>> now.time()\n",
            "datetime.time(15, 8, 24, 78915)\n",
            ">>> print(now.time())\n",
            "15:08:24.789150\n",
            "\n",
            "\n",
            "To save typing, you can import the datetime object from the datetime module:\n",
            ">>> from datetime import datetime\n",
            "\n",
            "Then remove the prefix datetime. from all of the above.\n",
            "\n",
            "\n"
          ]
        }
      ]
    },
    {
      "cell_type": "code",
      "source": [],
      "metadata": {
        "id": "svvq-btRDaVF"
      },
      "execution_count": null,
      "outputs": []
    }
  ]
}